{
 "cells": [
  {
   "cell_type": "code",
   "execution_count": 91,
   "metadata": {
    "collapsed": false
   },
   "outputs": [
    {
     "data": {
      "text/plain": [
       "PyPlot"
      ]
     },
     "execution_count": 91,
     "metadata": {},
     "output_type": "execute_result"
    }
   ],
   "source": [
    "using Distributions\n",
    "using PyPlot\n",
    "plt = PyPlot"
   ]
  },
  {
   "cell_type": "code",
   "execution_count": 301,
   "metadata": {
    "collapsed": false
   },
   "outputs": [
    {
     "data": {
      "text/plain": [
       "iterativeLegendreArray (generic function with 1 method)"
      ]
     },
     "execution_count": 301,
     "metadata": {},
     "output_type": "execute_result"
    }
   ],
   "source": [
    "function iterativeLegendreArray(Qf, x)\n",
    "    if Qf == 0\n",
    "        return [1]\n",
    "    elseif Qf == 1\n",
    "        return [1 x]\n",
    "    else\n",
    "        L = ones(Qf + 1)\n",
    "        L[1] = 1\n",
    "        L[2] = x\n",
    "        for i = 3:Qf + 1\n",
    "            L[i] = ( (2 * i - 1) / i) * x * L[i-1] - ((i - 1) / i) * L[i-2]\n",
    "        end\n",
    "        \n",
    "        return L\n",
    "    end\n",
    "end"
   ]
  },
  {
   "cell_type": "code",
   "execution_count": 302,
   "metadata": {
    "collapsed": false
   },
   "outputs": [
    {
     "data": {
      "text/plain": [
       "targetFunction (generic function with 1 method)"
      ]
     },
     "execution_count": 302,
     "metadata": {},
     "output_type": "execute_result"
    }
   ],
   "source": [
    "function createTargetFunctionCoefficients(Qf)\n",
    "    a_rand = rand(Qf + 1)\n",
    "    coefSum = sum([a_rand[q]^2/(2 * q + 1) for q in 1:(Qf + 1)])\n",
    "    a = a_rand / sqrt(2 * coefSum)\n",
    "    return a\n",
    "    \n",
    "end\n",
    "\n",
    "function targetFunction(x, a, Qf)\n",
    "    sum = 0\n",
    "    L = iterativeLegendreArray(Qf, x)\n",
    "    for q = 1:Qf + 1\n",
    "        sum += a[q] * L[q]\n",
    "    end\n",
    "\n",
    "    return sum \n",
    "end"
   ]
  },
  {
   "cell_type": "code",
   "execution_count": 303,
   "metadata": {
    "collapsed": false
   },
   "outputs": [
    {
     "data": {
      "text/plain": [
       "createDatabase (generic function with 3 methods)"
      ]
     },
     "execution_count": 303,
     "metadata": {},
     "output_type": "execute_result"
    }
   ],
   "source": [
    "function createDatabase(N, a, Qf, sigma)\n",
    "    X = sort(2 * rand(N) - 1)\n",
    "    Y = zeros(N)\n",
    "    for n=1:N\n",
    "        Fx = targetFunction(X[n], a, Qf)\n",
    "        Y[n] = Fx + sqrt(sigma) * (randn() * 1.1)\n",
    "    end\n",
    "    return X, Y\n",
    "end"
   ]
  },
  {
   "cell_type": "code",
   "execution_count": 304,
   "metadata": {
    "collapsed": false
   },
   "outputs": [
    {
     "data": {
      "text/plain": [
       "H10 (generic function with 1 method)"
      ]
     },
     "execution_count": 304,
     "metadata": {},
     "output_type": "execute_result"
    }
   ],
   "source": [
    "function H2(X, Y)\n",
    "    N = size(X, 1)\n",
    "    Z2 = zeros(N, 3)\n",
    "    for i=1:N\n",
    "        Z2[i,:] = iterativeLegendreArray(2, X[i])\n",
    "    end\n",
    "    w = pinv(Z2) * Y\n",
    "    return w\n",
    "end\n",
    "\n",
    "function H10(X, Y)\n",
    "    N = size(X, 1)\n",
    "    Z10 = zeros(N, 11)\n",
    "    for i=1:N\n",
    "        Z10[i,:] = iterativeLegendreArray(10, X[i])\n",
    "    end\n",
    "    w = pinv(Z10) * Y\n",
    "end"
   ]
  },
  {
   "cell_type": "code",
   "execution_count": 305,
   "metadata": {
    "collapsed": false
   },
   "outputs": [
    {
     "data": {
      "text/plain": [
       "Eout (generic function with 1 method)"
      ]
     },
     "execution_count": 305,
     "metadata": {},
     "output_type": "execute_result"
    }
   ],
   "source": [
    "function Eout(a, w)\n",
    "    Qf = length(a)\n",
    "    h = length(w)\n",
    "    if Qf > h\n",
    "        w = vcat(w, zeros(Qf - h))\n",
    "    elseif Qf < h\n",
    "        a = vcat(a, zeros(h - Qf))\n",
    "    end\n",
    "    c = 2 * 1:max(h, Qf) + 1\n",
    "    err = (((a - w).^2 ) ./ (c))\n",
    "    return sum(err)\n",
    "end"
   ]
  },
  {
   "cell_type": "code",
   "execution_count": 306,
   "metadata": {
    "collapsed": false
   },
   "outputs": [
    {
     "data": {
      "text/plain": [
       "measureStochasticNoise (generic function with 1 method)"
      ]
     },
     "execution_count": 306,
     "metadata": {},
     "output_type": "execute_result"
    }
   ],
   "source": [
    "function measureStochasticNoise(sigma, N, repeats)\n",
    "    result = 0\n",
    "    Qf = 20\n",
    "    for i=1:repeats\n",
    "        a = createTargetFunctionCoefficients(Qf)\n",
    "        X, Y = createDatabase(N, a, Qf, sigma)\n",
    "        w2 = H2(X, Y)\n",
    "        w10 = H10(X, Y)\n",
    "        overfitting = Eout(a, w10) - Eout(a, w2)\n",
    "        result += overfitting\n",
    "    end\n",
    "    return result/repeats\n",
    "end"
   ]
  },
  {
   "cell_type": "code",
   "execution_count": 318,
   "metadata": {
    "collapsed": false
   },
   "outputs": [
    {
     "data": {
      "text/plain": [
       "measureDeterministicNoise (generic function with 1 method)"
      ]
     },
     "execution_count": 318,
     "metadata": {},
     "output_type": "execute_result"
    }
   ],
   "source": [
    "function measureDeterministicNoise(Qf, N, repeats)\n",
    "    result = 0\n",
    "    sigma = 0.1\n",
    "    for i=1:repeats\n",
    "        a = createTargetFunctionCoefficients(Qf)\n",
    "        X, Y = createDatabase(N, a, Qf, sigma)\n",
    "        w2 = H2(X, Y)\n",
    "        w10 = H10(X, Y)\n",
    "        overfitting = Eout(a, w10) - Eout(a, w2)\n",
    "        result += overfitting\n",
    "    end\n",
    "    return result/repeats\n",
    "end"
   ]
  },
  {
   "cell_type": "code",
   "execution_count": null,
   "metadata": {
    "collapsed": false
   },
   "outputs": [],
   "source": [
    "sigmas = 0.0:0.05:2.0\n",
    "Ns = 20:5:130\n",
    "Qfs = 1:2:100 \n",
    "repeats = 1000\n",
    "\n",
    "for i=1:100\n",
    "    stochasticResult = [measureStochasticNoise(sigma, N, repeats) for sigma in sigmas, N in Ns]\n",
    "    writecsv(string(\"results/stochastic-\", i, \".csv\"), stochasticResult)\n",
    "end\n"
   ]
  },
  {
   "cell_type": "code",
   "execution_count": 316,
   "metadata": {
    "collapsed": false
   },
   "outputs": [
    {
     "data": {
      "image/png": "[encoded data removed]",
      "text/plain": [
       "PyPlot.Figure(PyObject <matplotlib.figure.Figure object at 0x7f541e4194e0>)"
      ]
     },
     "metadata": {},
     "output_type": "display_data"
    }
   ],
   "source": [
    "plt.imshow(stochasticResult, cmap=\"jet\", origin=\"lower\", vmin=-0.2, vmax=0.2, extent=[20,130,0.0,2.0], aspect=\"auto\")\n",
    "plt.colorbar()\n",
    "plt.show()\n",
    "plt.savefig(\"fig1.eps\", format=\"eps\")"
   ]
  },
  {
   "cell_type": "code",
   "execution_count": 319,
   "metadata": {
    "collapsed": false
   },
   "outputs": [
    {
     "name": "stdout",
     "output_type": "stream",
     "text": [
      "elapsed time: 74.806791323 seconds\n"
     ]
    },
    {
     "data": {
      "text/plain": [
       "74.806791323"
      ]
     },
     "execution_count": 319,
     "metadata": {},
     "output_type": "execute_result"
    }
   ],
   "source": [
    "for i=:1:100\n",
    "    deterministicResult = [measureDeterministicNoise(Qf, N, repeats) for Qf in Qfs, N in Ns]\n",
    "    writecsv(string(\"results/deterministic-\", i, \".csv\"), deterministicResult)\n",
    "end"
   ]
  },
  {
   "cell_type": "code",
   "execution_count": 1,
   "metadata": {
    "collapsed": false
   },
   "outputs": [
    {
     "ename": "LoadError",
     "evalue": "\u001b[91mUndefVarError: plt not defined\u001b[39m",
     "output_type": "error",
     "traceback": [
      "\u001b[91mUndefVarError: plt not defined\u001b[39m",
      "",
      "Stacktrace:",
      " [1] \u001b[1minclude_string\u001b[22m\u001b[22m\u001b[1m(\u001b[22m\u001b[22m::String, ::String\u001b[1m)\u001b[22m\u001b[22m at \u001b[1m./loading.jl:515\u001b[22m\u001b[22m"
     ]
    }
   ],
   "source": [
    "plt.imshow(deterministicResult, cmap=\"jet\", origin=\"lower\", vmin=-0.2, vmax=0.2, extent=[20,130,0,100], aspect=\"auto\")\n",
    "plt.colorbar()\n",
    "plt.show()\n",
    "plt.savefig(\"fig1.eps\", format=\"eps\")"
   ]
  },
  {
   "cell_type": "code",
   "execution_count": 327,
   "metadata": {
    "collapsed": false
   },
   "outputs": [
    {
     "data": {
      "text/plain": [
       "\"deterministic-1.csv\""
      ]
     },
     "execution_count": 327,
     "metadata": {},
     "output_type": "execute_result"
    }
   ],
   "source": []
  },
  {
   "cell_type": "code",
   "execution_count": null,
   "metadata": {
    "collapsed": true
   },
   "outputs": [],
   "source": []
  }
 ],
 "metadata": {
  "anaconda-cloud": {},
  "kernelspec": {
   "display_name": "Julia 0.6.0",
   "language": "julia",
   "name": "julia-0.6"
  },
  "language_info": {
   "file_extension": ".jl",
   "mimetype": "application/julia",
   "name": "julia",
   "version": "0.6.0"
  }
 },
 "nbformat": 4,
 "nbformat_minor": 1
}
